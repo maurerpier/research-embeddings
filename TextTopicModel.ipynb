{
 "cells": [
  {
   "cell_type": "markdown",
   "id": "e1f1f778-b200-409e-9c62-560627f068c0",
   "metadata": {},
   "source": [
    "# Topic predicton on Reutuers Dataset\n",
    "\n",
    "create a model that predicts the topic / topics of the given text"
   ]
  },
  {
   "cell_type": "code",
   "execution_count": 1,
   "id": "cc4dea92-247d-46a4-8822-60d9177500e0",
   "metadata": {},
   "outputs": [
    {
     "data": {
      "text/html": [
       "<div>\n",
       "<style scoped>\n",
       "    .dataframe tbody tr th:only-of-type {\n",
       "        vertical-align: middle;\n",
       "    }\n",
       "\n",
       "    .dataframe tbody tr th {\n",
       "        vertical-align: top;\n",
       "    }\n",
       "\n",
       "    .dataframe thead th {\n",
       "        text-align: right;\n",
       "    }\n",
       "</style>\n",
       "<table border=\"1\" class=\"dataframe\">\n",
       "  <thead>\n",
       "    <tr style=\"text-align: right;\">\n",
       "      <th></th>\n",
       "      <th>Unnamed: 0</th>\n",
       "      <th>newID</th>\n",
       "      <th>oldID</th>\n",
       "      <th>title</th>\n",
       "      <th>author</th>\n",
       "      <th>data_split</th>\n",
       "      <th>isTopicsAvailable</th>\n",
       "      <th>document_date</th>\n",
       "      <th>dateline</th>\n",
       "      <th>people</th>\n",
       "      <th>places</th>\n",
       "      <th>orgs</th>\n",
       "      <th>exchanges</th>\n",
       "      <th>topic_body</th>\n",
       "      <th>topics</th>\n",
       "    </tr>\n",
       "  </thead>\n",
       "  <tbody>\n",
       "    <tr>\n",
       "      <th>0</th>\n",
       "      <td>0</td>\n",
       "      <td>1</td>\n",
       "      <td>5544</td>\n",
       "      <td>BAHIA COCOA REVIEW</td>\n",
       "      <td>NaN</td>\n",
       "      <td>TRAIN</td>\n",
       "      <td>YES</td>\n",
       "      <td>26-FEB-1987 15:01:01.79</td>\n",
       "      <td>SALVADOR, Feb 26 -</td>\n",
       "      <td>[]</td>\n",
       "      <td>['el-salvador', 'usa', 'uruguay']</td>\n",
       "      <td>[]</td>\n",
       "      <td>[]</td>\n",
       "      <td>Showers continued throughout the week in\\nthe ...</td>\n",
       "      <td>['cocoa']</td>\n",
       "    </tr>\n",
       "    <tr>\n",
       "      <th>1</th>\n",
       "      <td>1</td>\n",
       "      <td>2</td>\n",
       "      <td>5545</td>\n",
       "      <td>STANDARD OIL &lt;SRD&gt; TO FORM FINANCIAL UNIT</td>\n",
       "      <td>NaN</td>\n",
       "      <td>TRAIN</td>\n",
       "      <td>NO</td>\n",
       "      <td>26-FEB-1987 15:02:20.00</td>\n",
       "      <td>CLEVELAND, Feb 26 -</td>\n",
       "      <td>[]</td>\n",
       "      <td>['usa']</td>\n",
       "      <td>[]</td>\n",
       "      <td>[]</td>\n",
       "      <td>Standard Oil Co and BP North America\\nInc said...</td>\n",
       "      <td>NaN</td>\n",
       "    </tr>\n",
       "    <tr>\n",
       "      <th>2</th>\n",
       "      <td>2</td>\n",
       "      <td>3</td>\n",
       "      <td>5546</td>\n",
       "      <td>TEXAS COMMERCE BANCSHARES &lt;TCB&gt; FILES PLAN</td>\n",
       "      <td>NaN</td>\n",
       "      <td>TRAIN</td>\n",
       "      <td>NO</td>\n",
       "      <td>26-FEB-1987 15:03:27.51</td>\n",
       "      <td>HOUSTON, Feb 26 -</td>\n",
       "      <td>[]</td>\n",
       "      <td>['usa']</td>\n",
       "      <td>[]</td>\n",
       "      <td>[]</td>\n",
       "      <td>Texas Commerce Bancshares Inc's Texas\\nCommerc...</td>\n",
       "      <td>NaN</td>\n",
       "    </tr>\n",
       "    <tr>\n",
       "      <th>3</th>\n",
       "      <td>3</td>\n",
       "      <td>4</td>\n",
       "      <td>5547</td>\n",
       "      <td>TALKING POINT/BANKAMERICA &lt;BAC&gt; EQUITY OFFER</td>\n",
       "      <td>by Janie Gabbett, Reuters</td>\n",
       "      <td>TRAIN</td>\n",
       "      <td>NO</td>\n",
       "      <td>26-FEB-1987 15:07:13.72</td>\n",
       "      <td>LOS ANGELES, Feb 26 -</td>\n",
       "      <td>[]</td>\n",
       "      <td>['usa', 'brazil']</td>\n",
       "      <td>[]</td>\n",
       "      <td>[]</td>\n",
       "      <td>BankAmerica Corp is not under\\npressure to act...</td>\n",
       "      <td>NaN</td>\n",
       "    </tr>\n",
       "    <tr>\n",
       "      <th>4</th>\n",
       "      <td>4</td>\n",
       "      <td>5</td>\n",
       "      <td>5548</td>\n",
       "      <td>NATIONAL AVERAGE PRICES FOR FARMER-OWNED RESERVE</td>\n",
       "      <td>NaN</td>\n",
       "      <td>TRAIN</td>\n",
       "      <td>YES</td>\n",
       "      <td>26-FEB-1987 15:10:44.60</td>\n",
       "      <td>WASHINGTON, Feb 26 -</td>\n",
       "      <td>[]</td>\n",
       "      <td>['usa']</td>\n",
       "      <td>[]</td>\n",
       "      <td>[]</td>\n",
       "      <td>The U.S. Agriculture Department\\nreported the ...</td>\n",
       "      <td>['grain', 'wheat', 'corn', 'barley', 'oat', 's...</td>\n",
       "    </tr>\n",
       "  </tbody>\n",
       "</table>\n",
       "</div>"
      ],
      "text/plain": [
       "   Unnamed: 0  newID  oldID                                             title  \\\n",
       "0           0      1   5544                                BAHIA COCOA REVIEW   \n",
       "1           1      2   5545         STANDARD OIL <SRD> TO FORM FINANCIAL UNIT   \n",
       "2           2      3   5546        TEXAS COMMERCE BANCSHARES <TCB> FILES PLAN   \n",
       "3           3      4   5547      TALKING POINT/BANKAMERICA <BAC> EQUITY OFFER   \n",
       "4           4      5   5548  NATIONAL AVERAGE PRICES FOR FARMER-OWNED RESERVE   \n",
       "\n",
       "                          author data_split isTopicsAvailable  \\\n",
       "0                            NaN      TRAIN               YES   \n",
       "1                            NaN      TRAIN                NO   \n",
       "2                            NaN      TRAIN                NO   \n",
       "3      by Janie Gabbett, Reuters      TRAIN                NO   \n",
       "4                            NaN      TRAIN               YES   \n",
       "\n",
       "             document_date                    dateline people  \\\n",
       "0  26-FEB-1987 15:01:01.79         SALVADOR, Feb 26 -      []   \n",
       "1  26-FEB-1987 15:02:20.00        CLEVELAND, Feb 26 -      []   \n",
       "2  26-FEB-1987 15:03:27.51          HOUSTON, Feb 26 -      []   \n",
       "3  26-FEB-1987 15:07:13.72      LOS ANGELES, Feb 26 -      []   \n",
       "4  26-FEB-1987 15:10:44.60       WASHINGTON, Feb 26 -      []   \n",
       "\n",
       "                              places orgs exchanges  \\\n",
       "0  ['el-salvador', 'usa', 'uruguay']   []        []   \n",
       "1                            ['usa']   []        []   \n",
       "2                            ['usa']   []        []   \n",
       "3                  ['usa', 'brazil']   []        []   \n",
       "4                            ['usa']   []        []   \n",
       "\n",
       "                                          topic_body  \\\n",
       "0  Showers continued throughout the week in\\nthe ...   \n",
       "1  Standard Oil Co and BP North America\\nInc said...   \n",
       "2  Texas Commerce Bancshares Inc's Texas\\nCommerc...   \n",
       "3  BankAmerica Corp is not under\\npressure to act...   \n",
       "4  The U.S. Agriculture Department\\nreported the ...   \n",
       "\n",
       "                                              topics  \n",
       "0                                          ['cocoa']  \n",
       "1                                                NaN  \n",
       "2                                                NaN  \n",
       "3                                                NaN  \n",
       "4  ['grain', 'wheat', 'corn', 'barley', 'oat', 's...  "
      ]
     },
     "execution_count": 1,
     "metadata": {},
     "output_type": "execute_result"
    }
   ],
   "source": [
    "import pandas as pd\n",
    "import numpy as np\n",
    "dataset = pd.read_csv(\"Reuters/reuters21578_news.csv\")\n",
    "dataset.head()"
   ]
  },
  {
   "cell_type": "code",
   "execution_count": 49,
   "id": "6e40d6b6-18c9-4214-a24a-3aaead5d6eb8",
   "metadata": {},
   "outputs": [
    {
     "name": "stdout",
     "output_type": "stream",
     "text": [
      "amount of documents: 10377\n"
     ]
    },
    {
     "data": {
      "text/html": [
       "<div>\n",
       "<style scoped>\n",
       "    .dataframe tbody tr th:only-of-type {\n",
       "        vertical-align: middle;\n",
       "    }\n",
       "\n",
       "    .dataframe tbody tr th {\n",
       "        vertical-align: top;\n",
       "    }\n",
       "\n",
       "    .dataframe thead th {\n",
       "        text-align: right;\n",
       "    }\n",
       "</style>\n",
       "<table border=\"1\" class=\"dataframe\">\n",
       "  <thead>\n",
       "    <tr style=\"text-align: right;\">\n",
       "      <th></th>\n",
       "      <th>text</th>\n",
       "      <th>topics</th>\n",
       "      <th>length</th>\n",
       "    </tr>\n",
       "  </thead>\n",
       "  <tbody>\n",
       "    <tr>\n",
       "      <th>0</th>\n",
       "      <td>Showers continued throughout the week in\\nthe ...</td>\n",
       "      <td>['cocoa']</td>\n",
       "      <td>2859</td>\n",
       "    </tr>\n",
       "    <tr>\n",
       "      <th>4</th>\n",
       "      <td>The U.S. Agriculture Department\\nreported the ...</td>\n",
       "      <td>['grain', 'wheat', 'corn', 'barley', 'oat', 's...</td>\n",
       "      <td>1140</td>\n",
       "    </tr>\n",
       "    <tr>\n",
       "      <th>5</th>\n",
       "      <td>Argentine grain board figures show\\ncrop regis...</td>\n",
       "      <td>['veg-oil', 'linseed', 'lin-oil', 'soy-oil', '...</td>\n",
       "      <td>1263</td>\n",
       "    </tr>\n",
       "    <tr>\n",
       "      <th>8</th>\n",
       "      <td>Champion Products Inc said its\\nboard of direc...</td>\n",
       "      <td>['earn']</td>\n",
       "      <td>339</td>\n",
       "    </tr>\n",
       "    <tr>\n",
       "      <th>9</th>\n",
       "      <td>Computer Terminal Systems Inc said\\nit has com...</td>\n",
       "      <td>['acq']</td>\n",
       "      <td>1263</td>\n",
       "    </tr>\n",
       "  </tbody>\n",
       "</table>\n",
       "</div>"
      ],
      "text/plain": [
       "                                                text  \\\n",
       "0  Showers continued throughout the week in\\nthe ...   \n",
       "4  The U.S. Agriculture Department\\nreported the ...   \n",
       "5  Argentine grain board figures show\\ncrop regis...   \n",
       "8  Champion Products Inc said its\\nboard of direc...   \n",
       "9  Computer Terminal Systems Inc said\\nit has com...   \n",
       "\n",
       "                                              topics  length  \n",
       "0                                          ['cocoa']    2859  \n",
       "4  ['grain', 'wheat', 'corn', 'barley', 'oat', 's...    1140  \n",
       "5  ['veg-oil', 'linseed', 'lin-oil', 'soy-oil', '...    1263  \n",
       "8                                           ['earn']     339  \n",
       "9                                            ['acq']    1263  "
      ]
     },
     "execution_count": 2,
     "metadata": {},
     "output_type": "execute_result"
    }
   ],
   "source": [
    "data = dataset[[\"title\", \"topic_body\", \"topics\"]].rename(columns={\"topic_body\": \"text\"})\n",
    "data = data.drop(axis=1, columns=[\"title\"])\n",
    "data = data.dropna()\n",
    "print(f\"amount of documents: {len(data)}\")\n",
    "data[\"length\"] = data[\"text\"].apply(len)\n",
    "data.head()"
   ]
  },
  {
   "cell_type": "code",
   "execution_count": 3,
   "id": "219ca4c1-1a55-4fe8-9ee2-0129ad3ef0c5",
   "metadata": {},
   "outputs": [
    {
     "data": {
      "text/html": [
       "<div>\n",
       "<style scoped>\n",
       "    .dataframe tbody tr th:only-of-type {\n",
       "        vertical-align: middle;\n",
       "    }\n",
       "\n",
       "    .dataframe tbody tr th {\n",
       "        vertical-align: top;\n",
       "    }\n",
       "\n",
       "    .dataframe thead th {\n",
       "        text-align: right;\n",
       "    }\n",
       "</style>\n",
       "<table border=\"1\" class=\"dataframe\">\n",
       "  <thead>\n",
       "    <tr style=\"text-align: right;\">\n",
       "      <th></th>\n",
       "      <th>text</th>\n",
       "      <th>topics</th>\n",
       "      <th>length</th>\n",
       "    </tr>\n",
       "  </thead>\n",
       "  <tbody>\n",
       "    <tr>\n",
       "      <th>0</th>\n",
       "      <td>showers continued throughout the week in the b...</td>\n",
       "      <td>['cocoa']</td>\n",
       "      <td>2859</td>\n",
       "    </tr>\n",
       "    <tr>\n",
       "      <th>4</th>\n",
       "      <td>the us agriculture department reported the far...</td>\n",
       "      <td>['grain', 'wheat', 'corn', 'barley', 'oat', 's...</td>\n",
       "      <td>1140</td>\n",
       "    </tr>\n",
       "    <tr>\n",
       "      <th>5</th>\n",
       "      <td>argentine grain board figures show crop regist...</td>\n",
       "      <td>['veg-oil', 'linseed', 'lin-oil', 'soy-oil', '...</td>\n",
       "      <td>1263</td>\n",
       "    </tr>\n",
       "    <tr>\n",
       "      <th>8</th>\n",
       "      <td>champion products inc said its board of direct...</td>\n",
       "      <td>['earn']</td>\n",
       "      <td>339</td>\n",
       "    </tr>\n",
       "    <tr>\n",
       "      <th>9</th>\n",
       "      <td>computer terminal systems inc said it has comp...</td>\n",
       "      <td>['acq']</td>\n",
       "      <td>1263</td>\n",
       "    </tr>\n",
       "  </tbody>\n",
       "</table>\n",
       "</div>"
      ],
      "text/plain": [
       "                                                text  \\\n",
       "0  showers continued throughout the week in the b...   \n",
       "4  the us agriculture department reported the far...   \n",
       "5  argentine grain board figures show crop regist...   \n",
       "8  champion products inc said its board of direct...   \n",
       "9  computer terminal systems inc said it has comp...   \n",
       "\n",
       "                                              topics  length  \n",
       "0                                          ['cocoa']    2859  \n",
       "4  ['grain', 'wheat', 'corn', 'barley', 'oat', 's...    1140  \n",
       "5  ['veg-oil', 'linseed', 'lin-oil', 'soy-oil', '...    1263  \n",
       "8                                           ['earn']     339  \n",
       "9                                            ['acq']    1263  "
      ]
     },
     "execution_count": 3,
     "metadata": {},
     "output_type": "execute_result"
    }
   ],
   "source": [
    "## preprocessing text\n",
    "import string\n",
    "import wordninja\n",
    "exculude = string.punctuation\n",
    "# to lowercase\n",
    "data[\"text\"] = data[\"text\"].str.lower()\n",
    "# remove newline, tabs, numbers\n",
    "data[\"text\"] = data[\"text\"].replace('[\\n\\t\\'0-9]', '', regex=True)\n",
    "# remove puncutation\n",
    "data[\"text\"] = data[\"text\"].apply(lambda s: s.translate(str.maketrans('', '', exculude)))\n",
    "# split joined words\n",
    "data[\"text\"] = data[\"text\"].apply(lambda s: \" \".join(wordninja.split(s)))\n",
    "data.head()"
   ]
  },
  {
   "cell_type": "code",
   "execution_count": 11,
   "id": "a0ee595c-adff-43b7-9495-9de3ddadc87e",
   "metadata": {},
   "outputs": [
    {
     "data": {
      "text/plain": [
       "<Axes: xlabel='length', ylabel='count'>"
      ]
     },
     "execution_count": 11,
     "metadata": {},
     "output_type": "execute_result"
    },
    {
     "data": {
      "image/png": "[encoded data removed]",
      "text/plain": [
       "<Figure size 1320x500 with 1 Axes>"
      ]
     },
     "metadata": {},
     "output_type": "display_data"
    }
   ],
   "source": [
    "import seaborn as sns\n",
    "import matplotlib.pyplot as plt\n",
    "fig, ax = plt.subplots(figsize=(13.2,5))\n",
    "\n",
    "data[\"length\"] = data[\"text\"].apply(str.split).apply(len)\n",
    "sns.countplot(data=data[data[\"length\"] < 400][[\"length\"]].apply(lambda x: (x // 10) * 10), x=\"length\", ax=ax)"
   ]
  },
  {
   "cell_type": "code",
   "execution_count": null,
   "id": "efa5ab57-33cb-46a8-a123-d94dc1a3eb8e",
   "metadata": {},
   "outputs": [],
   "source": []
  },
  {
   "cell_type": "code",
   "execution_count": 80,
   "id": "1b49e462-59ef-4499-8c55-446cf96f82f3",
   "metadata": {},
   "outputs": [
    {
     "data": {
      "text/html": [
       "<div>\n",
       "<style scoped>\n",
       "    .dataframe tbody tr th:only-of-type {\n",
       "        vertical-align: middle;\n",
       "    }\n",
       "\n",
       "    .dataframe tbody tr th {\n",
       "        vertical-align: top;\n",
       "    }\n",
       "\n",
       "    .dataframe thead th {\n",
       "        text-align: right;\n",
       "    }\n",
       "</style>\n",
       "<table border=\"1\" class=\"dataframe\">\n",
       "  <thead>\n",
       "    <tr style=\"text-align: right;\">\n",
       "      <th></th>\n",
       "      <th>text</th>\n",
       "      <th>topics</th>\n",
       "      <th>length</th>\n",
       "      <th>multi-topic</th>\n",
       "    </tr>\n",
       "  </thead>\n",
       "  <tbody>\n",
       "    <tr>\n",
       "      <th>0</th>\n",
       "      <td>showers continued throughout the week in the b...</td>\n",
       "      <td>cocoa</td>\n",
       "      <td>2859</td>\n",
       "      <td>False</td>\n",
       "    </tr>\n",
       "    <tr>\n",
       "      <th>1</th>\n",
       "      <td>the us agriculture department reported the far...</td>\n",
       "      <td>grain</td>\n",
       "      <td>1140</td>\n",
       "      <td>True</td>\n",
       "    </tr>\n",
       "    <tr>\n",
       "      <th>2</th>\n",
       "      <td>argentine grain board figures show crop regist...</td>\n",
       "      <td>veg-oil</td>\n",
       "      <td>1263</td>\n",
       "      <td>True</td>\n",
       "    </tr>\n",
       "    <tr>\n",
       "      <th>3</th>\n",
       "      <td>champion products inc said its board of direct...</td>\n",
       "      <td>earn</td>\n",
       "      <td>339</td>\n",
       "      <td>False</td>\n",
       "    </tr>\n",
       "    <tr>\n",
       "      <th>4</th>\n",
       "      <td>computer terminal systems inc said it has comp...</td>\n",
       "      <td>acq</td>\n",
       "      <td>1263</td>\n",
       "      <td>False</td>\n",
       "    </tr>\n",
       "  </tbody>\n",
       "</table>\n",
       "</div>"
      ],
      "text/plain": [
       "                                                text   topics  length  \\\n",
       "0  showers continued throughout the week in the b...    cocoa    2859   \n",
       "1  the us agriculture department reported the far...    grain    1140   \n",
       "2  argentine grain board figures show crop regist...  veg-oil    1263   \n",
       "3  champion products inc said its board of direct...     earn     339   \n",
       "4  computer terminal systems inc said it has comp...      acq    1263   \n",
       "\n",
       "   multi-topic  \n",
       "0        False  \n",
       "1         True  \n",
       "2         True  \n",
       "3        False  \n",
       "4        False  "
      ]
     },
     "execution_count": 52,
     "metadata": {},
     "output_type": "execute_result"
    }
   ],
   "source": [
    "# process topics\n",
    "data[\"topics\"] = data[\"topics\"].replace('[\\',]', '', regex=True)\n",
    "for idx, row in data.iterrows():\n",
    "    topics = data[\"topics\"][idx][1:-1].split()\n",
    "    data.loc[idx, \"topics\"] = topics[0]\n",
    "    if len(topics) > 1:\n",
    "        data.loc[idx, \"multi-topic\"] = True\n",
    "\n",
    "data[\"multi-topic\"] = data[\"multi-topic\"].fillna(False)\n",
    "data = data.reset_index(drop=True)\n",
    "data.head()"
   ]
  },
  {
   "cell_type": "code",
   "execution_count": 53,
   "id": "0f90ec1b-4d42-428f-a49e-0c1bb7693f8d",
   "metadata": {},
   "outputs": [
    {
     "data": {
      "text/html": [
       "<div>\n",
       "<style scoped>\n",
       "    .dataframe tbody tr th:only-of-type {\n",
       "        vertical-align: middle;\n",
       "    }\n",
       "\n",
       "    .dataframe tbody tr th {\n",
       "        vertical-align: top;\n",
       "    }\n",
       "\n",
       "    .dataframe thead th {\n",
       "        text-align: right;\n",
       "    }\n",
       "</style>\n",
       "<table border=\"1\" class=\"dataframe\">\n",
       "  <thead>\n",
       "    <tr style=\"text-align: right;\">\n",
       "      <th></th>\n",
       "      <th>text</th>\n",
       "      <th>topics</th>\n",
       "      <th>length</th>\n",
       "      <th>multi-topic</th>\n",
       "    </tr>\n",
       "  </thead>\n",
       "  <tbody>\n",
       "    <tr>\n",
       "      <th>0</th>\n",
       "      <td>showers continued throughout the week in the b...</td>\n",
       "      <td>cocoa</td>\n",
       "      <td>2859</td>\n",
       "      <td>False</td>\n",
       "    </tr>\n",
       "    <tr>\n",
       "      <th>1</th>\n",
       "      <td>the us agriculture department reported the far...</td>\n",
       "      <td>grain</td>\n",
       "      <td>1140</td>\n",
       "      <td>True</td>\n",
       "    </tr>\n",
       "    <tr>\n",
       "      <th>2</th>\n",
       "      <td>argentine grain board figures show crop regist...</td>\n",
       "      <td>veg-oil</td>\n",
       "      <td>1263</td>\n",
       "      <td>True</td>\n",
       "    </tr>\n",
       "    <tr>\n",
       "      <th>3</th>\n",
       "      <td>champion products inc said its board of direct...</td>\n",
       "      <td>earn</td>\n",
       "      <td>339</td>\n",
       "      <td>False</td>\n",
       "    </tr>\n",
       "    <tr>\n",
       "      <th>4</th>\n",
       "      <td>computer terminal systems inc said it has comp...</td>\n",
       "      <td>acq</td>\n",
       "      <td>1263</td>\n",
       "      <td>False</td>\n",
       "    </tr>\n",
       "  </tbody>\n",
       "</table>\n",
       "</div>"
      ],
      "text/plain": [
       "                                                text   topics  length  \\\n",
       "0  showers continued throughout the week in the b...    cocoa    2859   \n",
       "1  the us agriculture department reported the far...    grain    1140   \n",
       "2  argentine grain board figures show crop regist...  veg-oil    1263   \n",
       "3  champion products inc said its board of direct...     earn     339   \n",
       "4  computer terminal systems inc said it has comp...      acq    1263   \n",
       "\n",
       "   multi-topic  \n",
       "0        False  \n",
       "1         True  \n",
       "2         True  \n",
       "3        False  \n",
       "4        False  "
      ]
     },
     "execution_count": 53,
     "metadata": {},
     "output_type": "execute_result"
    }
   ],
   "source": [
    "# only keep where we have more than 100 of the same topic\n",
    "df = data[data.groupby(\"topics\").topics.transform('count') >= SIZE // 20]\n",
    "df = df.reset_index(drop=True)\n",
    "df.head()"
   ]
  },
  {
   "cell_type": "code",
   "execution_count": 54,
   "id": "a15de51d-fabd-4c18-a1f4-837341a93663",
   "metadata": {},
   "outputs": [
    {
     "name": "stdout",
     "output_type": "stream",
     "text": [
      "Amount of data after processing: 9597\n"
     ]
    },
    {
     "data": {
      "text/plain": [
       "<Axes: xlabel='topics', ylabel='count'>"
      ]
     },
     "execution_count": 54,
     "metadata": {},
     "output_type": "execute_result"
    },
    {
     "data": {
      "image/png": "[encoded data removed]",
      "text/plain": [
       "<Figure size 640x480 with 1 Axes>"
      ]
     },
     "metadata": {},
     "output_type": "display_data"
    }
   ],
   "source": [
    "print(f\"Amount of data after processing: {len(df)}\")\n",
    "sns.countplot(data=data, x=\"topics\")"
   ]
  },
  {
   "cell_type": "code",
   "execution_count": 55,
   "id": "22b08a02-52a4-4335-a06c-6e8f288dbe13",
   "metadata": {},
   "outputs": [
    {
     "name": "stdout",
     "output_type": "stream",
     "text": [
      "(7677,)\n",
      "(1920,)\n",
      "(7677,)\n",
      "(1920,)\n"
     ]
    }
   ],
   "source": [
    "# prepare for model training\n",
    "from sklearn.model_selection import train_test_split\n",
    "\n",
    "X_train, X_test, y_train, y_test = train_test_split(df[\"text\"], df[\"topics\"], test_size=0.2, random_state=0)\n",
    "print(X_train.shape)\n",
    "print(X_test.shape)\n",
    "print(y_train.shape)\n",
    "print(y_test.shape)"
   ]
  },
  {
   "cell_type": "code",
   "execution_count": 56,
   "id": "770f8ca2-6bcf-4edb-b3e5-d41e07d9170b",
   "metadata": {},
   "outputs": [],
   "source": [
    "from sklearn.preprocessing import LabelEncoder\n",
    "encoder = LabelEncoder()\n",
    "encoded_y_train = encoder.fit_transform(y_train)\n",
    "encoded_y_test = encoder.transform(y_test)\n",
    "encoder_maps = dict(zip(encoder.classes_, encoder.transform(encoder.classes_)))\n",
    "\n",
    "# encode text\n",
    "from sklearn.feature_extraction.text import CountVectorizer, TfidfVectorizer\n",
    "\n",
    "encoded_X_train = vectoriser.fit_transform(X_train).toarray()\n",
    "encoded_X_test = vectoriser.transform(X_test).toarray()"
   ]
  },
  {
   "cell_type": "code",
   "execution_count": 57,
   "id": "37076eee-243f-45a0-9a7e-cfd12d9cd2aa",
   "metadata": {
    "scrolled": true
   },
   "outputs": [],
   "source": [
    "# one hot encode text\n",
    "from tensorflow.keras.preprocessing.text import one_hot\n",
    "from tensorflow.keras.preprocessing.sequence import pad_sequences\n",
    "vocab_size = 50\n",
    "max_length = df['text'].apply(len).max()\n",
    "# one_hot_encoder = np.vectorize(lambda t: one_hot(t, vocab_size))\n",
    "# one_hot_encoder(X_train[:2])\n",
    "one_hot_X_train = [one_hot(t, vocab_size) for t in X_train]\n",
    "one_hot_X_test = [one_hot(t, vocab_size) for t in X_test]\n",
    "\n",
    "encoded_X_train = pad_sequences(one_hot_X_train, maxlen=max_length, padding=\"post\")\n",
    "encoded_X_test = pad_sequences(one_hot_X_test, maxlen=max_length, padding=\"post\")"
   ]
  },
  {
   "cell_type": "code",
   "execution_count": 58,
   "id": "15c97a94-9c01-4d84-b2c3-f3bad8b8e799",
   "metadata": {},
   "outputs": [],
   "source": [
    "np.save(\"X_train.npy\", encoded_X_train)\n",
    "np.save(\"X_test.npy\", encoded_X_test)\n",
    "np.save(\"y_train.npy\", encoded_y_train)\n",
    "np.save(\"y_test.npy\", encoded_y_test)"
   ]
  },
  {
   "cell_type": "code",
   "execution_count": 59,
   "id": "e4b0200f-187a-4ffb-a043-407cf50711d8",
   "metadata": {},
   "outputs": [],
   "source": [
    "encoded_X_train = np.load(\"X_train.npy\")\n",
    "encoded_X_test = np.load(\"X_test.npy\")\n",
    "encoded_y_train = np.load(\"y_train.npy\")\n",
    "encoded_y_test = np.load(\"y_test.npy\")"
   ]
  },
  {
   "cell_type": "code",
   "execution_count": 60,
   "id": "9b23305d-a2e9-47e9-a1d9-1f01aef53b58",
   "metadata": {},
   "outputs": [],
   "source": [
    "from tensorflow.keras.utils import to_categorical\n",
    "\n",
    "TRAIN_LIMIT = 100\n",
    "TEST_LIMIT = 10\n",
    "\n",
    "eX_train = encoded_X_train[:TRAIN_LIMIT]\n",
    "eX_test = encoded_X_test[:TEST_LIMIT]\n",
    "ey_train = encoded_y_train[:TRAIN_LIMIT]\n",
    "ey_test = encoded_y_test[:TEST_LIMIT]\n",
    "topics = len(df['topics'].unique())\n",
    "cy_train = to_categorical(ey_train, num_classes=topics)\n",
    "cy_test = to_categorical(ey_test, num_classes=topics)\n",
    "\n",
    "print(eX_train.shape)\n",
    "print(eX_test.shape)\n",
    "print(ey_train.shape)\n",
    "print(ey_test.shape)\n",
    "print(cy_train.shape)\n",
    "print(cy_test.shape)"
   ]
  },
  {
   "cell_type": "code",
   "execution_count": 61,
   "id": "b728a4ac-620e-4c73-8d2e-ec32cbbab7d0",
   "metadata": {},
   "outputs": [
    {
     "name": "stdout",
     "output_type": "stream",
     "text": [
      "Model: \"sequential_2\"\n",
      "_________________________________________________________________\n",
      " Layer (type)                Output Shape              Param #   \n",
      "=================================================================\n",
      " embedding_2 (Embedding)     (None, 6085, 512)         25600     \n",
      "                                                                 \n",
      " flatten_2 (Flatten)         (None, 3115520)           0         \n",
      "                                                                 \n",
      " dense_4 (Dense)             (None, 64)                199393344 \n",
      "                                                                 \n",
      " dense_5 (Dense)             (None, 1)                 65        \n",
      "                                                                 \n",
      "=================================================================\n",
      "Total params: 199,419,009\n",
      "Trainable params: 199,419,009\n",
      "Non-trainable params: 0\n",
      "_________________________________________________________________\n"
     ]
    }
   ],
   "source": [
    "# model\n",
    "from tensorflow.keras.models import Sequential\n",
    "from tensorflow.keras.layers import Dense, Embedding, Flatten\n",
    "\n",
    "model = Sequential([\n",
    "    Embedding(input_dim=vocab_size, output_dim=512, input_length=max_length),\n",
    "    Flatten(),\n",
    "    Dense(64, activation=\"relu\"),\n",
    "    Dense(1, activation=\"sigmoid\")\n",
    "])\n",
    "\n",
    "\n",
    "model.compile(optimizer=\"adam\", loss=\"binary_crossentropy\", metrics=[\"accuracy\"])\n",
    "model.summary()"
   ]
  },
  {
   "cell_type": "code",
   "execution_count": 62,
   "id": "7cc19b03-fa20-4d17-9d9a-acfe4b302670",
   "metadata": {},
   "outputs": [
    {
     "name": "stdout",
     "output_type": "stream",
     "text": [
      "1/1 [==============================] - 0s 322ms/step - loss: 0.5199 - accuracy: 0.0000e+00\n"
     ]
    },
    {
     "data": {
      "text/plain": [
       "[0.5198550820350647, 0.0]"
      ]
     },
     "execution_count": 62,
     "metadata": {},
     "output_type": "execute_result"
    }
   ],
   "source": [
    "model.evaluate(eX_test, ey_test)"
   ]
  },
  {
   "cell_type": "code",
   "execution_count": 64,
   "id": "177a88f5-ebcd-49db-9e6e-4c7ae1dd1f18",
   "metadata": {},
   "outputs": [
    {
     "name": "stdout",
     "output_type": "stream",
     "text": [
      "Epoch 1/10\n"
     ]
    },
    {
     "name": "stdout",
     "output_type": "stream",
     "text": [
      "3/3 [==============================] - 5s 1s/step - loss: -125447.7188 - accuracy: 0.0000e+00 - val_loss: -81025.7891 - val_accuracy: 0.0000e+00\n",
      "Epoch 2/10\n",
      "3/3 [==============================] - 4s 1s/step - loss: -154144.6719 - accuracy: 0.0000e+00 - val_loss: -97784.7266 - val_accuracy: 0.0000e+00\n",
      "Epoch 3/10\n",
      "3/3 [==============================] - 4s 1s/step - loss: -184939.5469 - accuracy: 0.0000e+00 - val_loss: -116942.1641 - val_accuracy: 0.0000e+00\n",
      "Epoch 4/10\n",
      "3/3 [==============================] - 4s 1s/step - loss: -220197.7812 - accuracy: 0.0000e+00 - val_loss: -138625.8281 - val_accuracy: 0.0000e+00\n",
      "Epoch 5/10\n",
      "3/3 [==============================] - 4s 1s/step - loss: -261553.8594 - accuracy: 0.0000e+00 - val_loss: -162965.9531 - val_accuracy: 0.0000e+00\n",
      "Epoch 6/10\n",
      "3/3 [==============================] - 4s 1s/step - loss: -302801.9688 - accuracy: 0.0000e+00 - val_loss: -190580.8281 - val_accuracy: 0.0000e+00\n",
      "Epoch 7/10\n",
      "3/3 [==============================] - 4s 1s/step - loss: -356747.2188 - accuracy: 0.0000e+00 - val_loss: -220975.2031 - val_accuracy: 0.0000e+00\n",
      "Epoch 8/10\n",
      "3/3 [==============================] - 4s 1s/step - loss: -412446.3125 - accuracy: 0.0000e+00 - val_loss: -255050.7031 - val_accuracy: 0.0000e+00\n",
      "Epoch 9/10\n",
      "3/3 [==============================] - 4s 1s/step - loss: -474789.1250 - accuracy: 0.0000e+00 - val_loss: -293017.2500 - val_accuracy: 0.0000e+00\n",
      "Epoch 10/10\n",
      "3/3 [==============================] - 4s 1s/step - loss: -547797.2500 - accuracy: 0.0000e+00 - val_loss: -334656.1250 - val_accuracy: 0.0000e+00\n"
     ]
    }
   ],
   "source": [
    "history = model.fit(eX_train, ey_train, epochs=10, batch_size=10, validation_split=0.1)"
   ]
  },
  {
   "cell_type": "code",
   "execution_count": 65,
   "id": "bc0c821f-57a7-4ca1-a657-fe090646be0f",
   "metadata": {},
   "outputs": [
    {
     "data": {
      "image/png": "[encoded data removed]",
      "text/plain": [
       "<Figure size 1500x500 with 2 Axes>"
      ]
     },
     "metadata": {},
     "output_type": "display_data"
    }
   ],
   "source": [
    "def plot_learning_curves(history):\n",
    "    acc      = history.history[\"accuracy\"]\n",
    "    val_acc  = history.history[\"val_accuracy\"]\n",
    "    loss     = history.history[\"loss\"]\n",
    "    val_loss = history.history[\"val_loss\"]\n",
    "\n",
    "    epochs = range(len(acc))\n",
    "\n",
    "    fig, (ax1, ax2) = plt.subplots(1, 2, figsize=(15,5))\n",
    "    ax1.plot(epochs, acc, \"b\", label=\"Training\")\n",
    "    ax1.plot(epochs, val_acc, \"r\", label=\"Validation\")\n",
    "    ax1.set_title(\"accuracy\")\n",
    "    ax1.legend()\n",
    "    \n",
    "    ax2.plot(epochs, loss, \"b\", label=\"Training\")\n",
    "    ax2.plot(epochs, val_loss, \"r\", label=\"Validation\")\n",
    "    ax2.set_title(\"loss\")\n",
    "    ax2.legend()\n",
    "\n",
    "    fig.show()\n",
    "\n",
    "plot_learning_curves(history)"
   ]
  },
  {
   "cell_type": "code",
   "execution_count": null,
   "id": "60f37393-a8b5-4da3-acaf-60445ed1eeee",
   "metadata": {},
   "outputs": [
    {
     "name": "stdout",
     "output_type": "stream",
     "text": [
      "1/1 [==============================] - 0s 140ms/step - loss: -2049142.6250 - accuracy: 0.0000e+00\n"
     ]
    },
    {
     "data": {
      "text/plain": [
       "[-2049142.625, 0.0]"
      ]
     },
     "execution_count": 74,
     "metadata": {},
     "output_type": "execute_result"
    }
   ],
   "source": [
    "model.evaluate(X_test, y_test)"
   ]
  },
  {
   "cell_type": "code",
   "execution_count": null,
   "id": "e2a27991-e606-4094-a7a4-0056815339f9",
   "metadata": {},
   "outputs": [
    {
     "name": "stdout",
     "output_type": "stream",
     "text": [
      "Example Input: said its shareholders approved its merger into and its change of incorporation from nevada to delaware metro funding also said its subsidiary comet corp will be renamed max com usa the company also reported shareholders approved the authorization of shares of common stock to be set aside for an incentive stock option plan reuter\n",
      "Encoded Vector: [28 34  7  6 34 12 22 12 34 11 30 28 35 25  7 37 34 34 26 28 34  4  7 13\n",
      " 19  9 30 16  6 12 10 15 26 12  7  6 10 13 30 45 30  8 10  7  9 38 29 20\n",
      " 43 17 10 29 18  4  0  0  0  0  0  0  0  0  0  0  0  0  0  0  0  0  0  0\n",
      "  0  0  0  0  0  0  0  0  0  0  0  0  0  0  0  0  0  0  0  0  0  0  0  0\n",
      "  0  0  0  0]\n",
      "1/1 [==============================] - 0s 51ms/step\n",
      "Predicted Class: 1.0 cocoa\n",
      "Actual Class: 0 acq\n"
     ]
    }
   ],
   "source": [
    "sample_index = 1\n",
    "sample_input = X_test.iloc[sample_index]\n",
    "encoded_sample = encoded_X_test[sample_index]\n",
    "print(\"Example Input:\", sample_input)\n",
    "print(\"Encoded Vector:\", encoded_sample[:100])\n",
    "\n",
    "predicted_class = np.max(model.predict(np.array([encoded_sample])))\n",
    "actual_class = ey_test[sample_index]\n",
    "\n",
    "print(\"Predicted Class:\", predicted_class, list(encoder_maps.keys())[list(encoder_maps.values()).index(int(predicted_class))])\n",
    "print(\"Actual Class:\", actual_class, list(encoder_maps.keys())[list(encoder_maps.values()).index(actual_class)])\n",
    "\n"
   ]
  },
  {
   "cell_type": "code",
   "execution_count": null,
   "id": "4e6622af-beb7-4b73-ae17-49d857639881",
   "metadata": {},
   "outputs": [
    {
     "data": {
      "text/plain": [
       "'cocoa'"
      ]
     },
     "execution_count": 87,
     "metadata": {},
     "output_type": "execute_result"
    }
   ],
   "source": [
    "list(encoder_maps.keys())[list(encoder_maps.values()).index(1)]"
   ]
  },
  {
   "cell_type": "code",
   "execution_count": null,
   "id": "d03415d5-d075-4290-abb2-00f558a72f5a",
   "metadata": {},
   "outputs": [],
   "source": []
  }
 ],
 "metadata": {
  "kernelspec": {
   "display_name": "Python 3.8 - Pytorch and Tensorflow",
   "language": "python",
   "name": "python38-azureml-pt-tf"
  }
 },
 "nbformat": 4,
 "nbformat_minor": 5
}
