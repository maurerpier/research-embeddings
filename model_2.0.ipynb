{
 "cells": [
  {
   "cell_type": "code",
   "execution_count": 2,
   "id": "d83ec6ae-ddca-4b9a-ae3d-f48381a8652f",
   "metadata": {},
   "outputs": [
    {
     "data": {
      "text/html": [
       "<div>\n",
       "<style scoped>\n",
       "    .dataframe tbody tr th:only-of-type {\n",
       "        vertical-align: middle;\n",
       "    }\n",
       "\n",
       "    .dataframe tbody tr th {\n",
       "        vertical-align: top;\n",
       "    }\n",
       "\n",
       "    .dataframe thead th {\n",
       "        text-align: right;\n",
       "    }\n",
       "</style>\n",
       "<table border=\"1\" class=\"dataframe\">\n",
       "  <thead>\n",
       "    <tr style=\"text-align: right;\">\n",
       "      <th></th>\n",
       "      <th>text</th>\n",
       "      <th>topics</th>\n",
       "      <th>multi-topic</th>\n",
       "    </tr>\n",
       "  </thead>\n",
       "  <tbody>\n",
       "    <tr>\n",
       "      <th>0</th>\n",
       "      <td>showers continued throughout the week in the b...</td>\n",
       "      <td>cocoa</td>\n",
       "      <td>False</td>\n",
       "    </tr>\n",
       "    <tr>\n",
       "      <th>1</th>\n",
       "      <td>the us agriculture department reported the far...</td>\n",
       "      <td>grain</td>\n",
       "      <td>True</td>\n",
       "    </tr>\n",
       "    <tr>\n",
       "      <th>2</th>\n",
       "      <td>argentine grain board figures show crop regist...</td>\n",
       "      <td>veg-oil</td>\n",
       "      <td>True</td>\n",
       "    </tr>\n",
       "    <tr>\n",
       "      <th>3</th>\n",
       "      <td>champion products inc said its board of direct...</td>\n",
       "      <td>earn</td>\n",
       "      <td>False</td>\n",
       "    </tr>\n",
       "    <tr>\n",
       "      <th>4</th>\n",
       "      <td>computer terminal systems inc said it has comp...</td>\n",
       "      <td>acq</td>\n",
       "      <td>False</td>\n",
       "    </tr>\n",
       "  </tbody>\n",
       "</table>\n",
       "</div>"
      ],
      "text/plain": [
       "                                                text   topics  multi-topic\n",
       "0  showers continued throughout the week in the b...    cocoa        False\n",
       "1  the us agriculture department reported the far...    grain         True\n",
       "2  argentine grain board figures show crop regist...  veg-oil         True\n",
       "3  champion products inc said its board of direct...     earn        False\n",
       "4  computer terminal systems inc said it has comp...      acq        False"
      ]
     },
     "execution_count": 2,
     "metadata": {},
     "output_type": "execute_result"
    }
   ],
   "source": [
    "import pandas as pd\n",
    "import numpy as np\n",
    "df = pd.read_csv(\"text_data.csv\")\n",
    "df.head()"
   ]
  },
  {
   "cell_type": "code",
   "execution_count": 9,
   "id": "8317fb4f-526b-4c8b-b4ed-ef4f73e11757",
   "metadata": {},
   "outputs": [
    {
     "data": {
      "text/plain": [
       "array([[    0,     0,     0, ..., 11976,  1332, 14985],\n",
       "       [    0,     0,     0, ...,  9402, 17979, 14985],\n",
       "       [    0,     0,     0, ..., 10291, 15952, 14985],\n",
       "       [    0,     0,     0, ...,   743, 17638, 14985],\n",
       "       [    0,     0,     0, ..., 15416,  8350, 14985]], dtype=int32)"
      ]
     },
     "execution_count": 9,
     "metadata": {},
     "output_type": "execute_result"
    }
   ],
   "source": [
    "from data import vectorize_df, tokenize, vocabulary\n",
    "\n",
    "max_words = 400\n",
    "\n",
    "df = df[df[\"text\"].apply(tokenize).apply(len) <= max_words]\n",
    "\n",
    "vectors = pd.DataFrame(vectorize_df(df))\n",
    "vectors.head().values"
   ]
  }
 ],
 "metadata": {
  "kernelspec": {
   "display_name": "Python 3 (ipykernel)",
   "language": "python",
   "name": "python3"
  },
  "language_info": {
   "codemirror_mode": {
    "name": "ipython",
    "version": 3
   },
   "file_extension": ".py",
   "mimetype": "text/x-python",
   "name": "python",
   "nbconvert_exporter": "python",
   "pygments_lexer": "ipython3",
   "version": "3.11.5"
  }
 },
 "nbformat": 4,
 "nbformat_minor": 5
}
